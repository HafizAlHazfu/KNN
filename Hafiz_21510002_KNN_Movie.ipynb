{
  "nbformat": 4,
  "nbformat_minor": 0,
  "metadata": {
    "colab": {
      "provenance": []
    },
    "kernelspec": {
      "name": "python3",
      "display_name": "Python 3"
    },
    "language_info": {
      "name": "python"
    }
  },
  "cells": [
    {
      "cell_type": "code",
      "source": [
        "import pandas as pi\n",
        "\n",
        "# Memuat data dari sumber online\n",
        "movies = pi.read_csv('https://raw.githubusercontent.com/ekayuniar/datamining/master/movies.csv')\n",
        "ratings = pi.read_csv('https://raw.githubusercontent.com/ekayuniar/datamining/master/ratings.csv')\n",
        "\n",
        "# Menggabungkan data berdasarkan kolom 'movieId'\n",
        "merged_data = pi.merge(ratings, movies, on='movieId')\n",
        "\n",
        "# Membuat matriks interaksi antara pengguna dan film\n",
        "interaction_matrix = merged_data.pivot_table(index='userId', columns='title', values='rating')\n",
        "\n",
        "# Menggantikan nilai NaN dengan 0 untuk memudahkan perhitungan\n",
        "interaction_matrix.fillna(0, inplace=True)\n",
        "\n",
        "from sklearn.neighbors import NearestNeighbors\n",
        "\n",
        "# Membuat model KNN dengan metric cosine untuk menghitung kesamaan\n",
        "knn = NearestNeighbors(metric='cosine', algorithm='brute', n_neighbors=20, n_jobs=-1)\n",
        "knn.fit(interaction_matrix.values)\n",
        "\n",
        "def suggest_movies(user_id, number_of_recommendations=10):\n",
        "    user_pos = user_id - 1  # Mengkoreksi posisi user karena index dimulai dari 1\n",
        "    dists, neighbors = knn.kneighbors(interaction_matrix.iloc[user_pos, :].values.reshape(1, -1), n_neighbors=number_of_recommendations+1)\n",
        "\n",
        "    # Menyusun daftar rekomendasi\n",
        "    movie_recommendations = []\n",
        "    for idx in range(1, len(dists.flatten())):  # Menghindari merekomendasikan user sendiri\n",
        "        film_index = neighbors.flatten()[idx]\n",
        "        film_name = interaction_matrix.columns[film_index]\n",
        "        movie_recommendations.append(film_name)\n",
        "\n",
        "    return movie_recommendations\n",
        "\n",
        "# Contoh pemanggilan fungsi\n",
        "user_example = 100\n",
        "recommended = suggest_movies(user_example)\n",
        "print(f\"Rekomendasi untuk User {user_example}:\")\n",
        "for num, film in enumerate(recommended, 1):\n",
        "    print(f\"{num}. {film}\")\n"
      ],
      "metadata": {
        "colab": {
          "base_uri": "https://localhost:8080/"
        },
        "id": "4_Ago95acTs5",
        "outputId": "cd8fb769-d80a-4fd6-f0b5-f7954b7dfe5d"
      },
      "execution_count": 19,
      "outputs": [
        {
          "output_type": "stream",
          "name": "stdout",
          "text": [
            "Rekomendasi untuk User 100:\n",
            "1. All the Boys Love Mandy Lane (2006)\n",
            "2. Alien Nation (1988)\n",
            "3. 13 Hours (2016)\n",
            "4. And Now... Ladies and Gentlemen... (2002)\n",
            "5. 21 and Over (2013)\n",
            "6. Army of Shadows (L'armée des ombres) (1969)\n",
            "7. 13 Assassins (Jûsan-nin no shikaku) (2010)\n",
            "8. A Pigeon Sat on a Branch Reflecting on Existence (2014)\n",
            "9. Absentia (2011)\n",
            "10. 800 Bullets (800 Balas) (2002)\n"
          ]
        }
      ]
    }
  ]
}